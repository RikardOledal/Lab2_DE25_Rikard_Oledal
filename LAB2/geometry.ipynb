{
 "cells": [
  {
   "cell_type": "code",
   "execution_count": null,
   "id": "1d926621",
   "metadata": {},
   "outputs": [
    {
     "name": "stdout",
     "output_type": "stream",
     "text": [
      "50.26548245743669\n",
      "33.510321638291124\n",
      "None\n"
     ]
    }
   ],
   "source": [
    "from circle import Circle\n",
    "import math\n",
    "\n",
    "class Sphere(Circle):\n",
    "    def __init__(self, x, y, radius):\n",
    "        super().__init__(x, y, radius)\n",
    "        self._area = 4 * math.pi * self.radius**2\n",
    "        self._volym = (4 * math.pi * self.radius**3)/3\n",
    "    \n",
    "    @property\n",
    "    def volym(self):\n",
    "        return self._volym\n",
    "    \n",
    "    @property\n",
    "    def perimeter(self) -> None:\n",
    "        NotImplemented"
   ]
  },
  {
   "cell_type": "code",
   "execution_count": null,
   "id": "132cf575",
   "metadata": {},
   "outputs": [],
   "source": []
  }
 ],
 "metadata": {
  "kernelspec": {
   "display_name": "Lab2_DE25_Rikard_Oledal",
   "language": "python",
   "name": "python3"
  },
  "language_info": {
   "codemirror_mode": {
    "name": "ipython",
    "version": 3
   },
   "file_extension": ".py",
   "mimetype": "text/x-python",
   "name": "python",
   "nbconvert_exporter": "python",
   "pygments_lexer": "ipython3",
   "version": "3.12.10"
  }
 },
 "nbformat": 4,
 "nbformat_minor": 5
}
