{
 "cells": [
  {
   "cell_type": "code",
   "execution_count": 97,
   "id": "e23120b6",
   "metadata": {},
   "outputs": [
    {
     "name": "stdout",
     "output_type": "stream",
     "text": [
      "Position: (1.0, 2.0)\n",
      "Width: 1.0\n",
      "Height: 4.0\n",
      "Area: 4.0\n",
      "Perimeter: 10.0\n",
      "Position: (4, 8)\n",
      "Width: 1.0\n",
      "Height: 4.0\n",
      "Area: 4.0\n",
      "Perimeter: 10.0\n"
     ]
    }
   ],
   "source": [
    "from rectangle import Rectangle\n",
    "\n",
    "rectangle1 = Rectangle(1,2,1,4)\n",
    "\n",
    "print(f\"Position: {rectangle1.position}\")\n",
    "print(f\"Width: {rectangle1.width}\")\n",
    "print(f\"Height: {rectangle1.height}\")\n",
    "print(f\"Area: {rectangle1.area}\")\n",
    "print(f\"Perimeter: {rectangle1.perimeter}\")\n",
    "\n",
    "rectangle1.translate(4,8)\n",
    "\n",
    "print(f\"Position: {rectangle1.position}\")\n",
    "print(f\"Width: {rectangle1.width}\")\n",
    "print(f\"Height: {rectangle1.height}\")\n",
    "print(f\"Area: {rectangle1.area}\")\n",
    "print(f\"Perimeter: {rectangle1.perimeter}\")\n",
    "\n",
    "\n"
   ]
  },
  {
   "cell_type": "code",
   "execution_count": null,
   "id": "e6146603",
   "metadata": {},
   "outputs": [],
   "source": []
  }
 ],
 "metadata": {
  "kernelspec": {
   "display_name": "Lab2_DE25_Rikard_Oledal",
   "language": "python",
   "name": "python3"
  },
  "language_info": {
   "codemirror_mode": {
    "name": "ipython",
    "version": 3
   },
   "file_extension": ".py",
   "mimetype": "text/x-python",
   "name": "python",
   "nbconvert_exporter": "python",
   "pygments_lexer": "ipython3",
   "version": "3.12.10"
  }
 },
 "nbformat": 4,
 "nbformat_minor": 5
}
